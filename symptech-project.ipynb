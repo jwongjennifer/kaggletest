{
 "cells": [
  {
   "cell_type": "code",
   "execution_count": 1,
   "id": "04be04fd",
   "metadata": {
    "_cell_guid": "b1076dfc-b9ad-4769-8c92-a6c4dae69d19",
    "_uuid": "8f2839f25d086af736a60e9eeb907d3b93b6e0e5",
    "execution": {
     "iopub.execute_input": "2024-11-22T00:32:15.590755Z",
     "iopub.status.busy": "2024-11-22T00:32:15.590258Z",
     "iopub.status.idle": "2024-11-22T00:32:16.463240Z",
     "shell.execute_reply": "2024-11-22T00:32:16.462311Z"
    },
    "papermill": {
     "duration": 0.88124,
     "end_time": "2024-11-22T00:32:16.465792",
     "exception": false,
     "start_time": "2024-11-22T00:32:15.584552",
     "status": "completed"
    },
    "tags": []
   },
   "outputs": [],
   "source": [
    "import numpy as np\n",
    "import pandas as pd\n",
    "#lost all comments..\n",
    "#old ideas for issues: issues with dataset and how we're handling it/fine tuning"
   ]
  },
  {
   "cell_type": "code",
   "execution_count": 2,
   "id": "b4be3cde",
   "metadata": {
    "execution": {
     "iopub.execute_input": "2024-11-22T00:32:16.475467Z",
     "iopub.status.busy": "2024-11-22T00:32:16.474382Z",
     "iopub.status.idle": "2024-11-22T00:32:16.479566Z",
     "shell.execute_reply": "2024-11-22T00:32:16.478449Z"
    },
    "papermill": {
     "duration": 0.012087,
     "end_time": "2024-11-22T00:32:16.481806",
     "exception": false,
     "start_time": "2024-11-22T00:32:16.469719",
     "status": "completed"
    },
    "tags": []
   },
   "outputs": [],
   "source": [
    "path = \"/kaggle/input/symptech-final-real-data/Final Actual Data.xlsx\""
   ]
  },
  {
   "cell_type": "code",
   "execution_count": 3,
   "id": "d1d71de1",
   "metadata": {
    "execution": {
     "iopub.execute_input": "2024-11-22T00:32:16.491502Z",
     "iopub.status.busy": "2024-11-22T00:32:16.490449Z",
     "iopub.status.idle": "2024-11-22T00:32:20.024398Z",
     "shell.execute_reply": "2024-11-22T00:32:20.023304Z"
    },
    "papermill": {
     "duration": 3.54133,
     "end_time": "2024-11-22T00:32:20.026982",
     "exception": false,
     "start_time": "2024-11-22T00:32:16.485652",
     "status": "completed"
    },
    "tags": []
   },
   "outputs": [
    {
     "data": {
      "text/html": [
       "<div>\n",
       "<style scoped>\n",
       "    .dataframe tbody tr th:only-of-type {\n",
       "        vertical-align: middle;\n",
       "    }\n",
       "\n",
       "    .dataframe tbody tr th {\n",
       "        vertical-align: top;\n",
       "    }\n",
       "\n",
       "    .dataframe thead th {\n",
       "        text-align: right;\n",
       "    }\n",
       "</style>\n",
       "<table border=\"1\" class=\"dataframe\">\n",
       "  <thead>\n",
       "    <tr style=\"text-align: right;\">\n",
       "      <th></th>\n",
       "      <th>Unnamed: 0</th>\n",
       "      <th>Patient ID</th>\n",
       "      <th>service_time</th>\n",
       "      <th>Visit Type_n</th>\n",
       "      <th>Patient Type</th>\n",
       "      <th>Gender</th>\n",
       "      <th>Age</th>\n",
       "      <th>Refill/Referral</th>\n",
       "      <th>Vision</th>\n",
       "      <th>Annual Exam</th>\n",
       "      <th>...</th>\n",
       "      <th>Chronic_Count</th>\n",
       "      <th>C_Asthma</th>\n",
       "      <th>C_Alcoholic</th>\n",
       "      <th>C_Anxiety</th>\n",
       "      <th>C_Blood Pressure</th>\n",
       "      <th>C_Heart Problem</th>\n",
       "      <th>C_Smoker</th>\n",
       "      <th>C_ Seizures</th>\n",
       "      <th>C_Learning Disability</th>\n",
       "      <th>F_anxiety</th>\n",
       "    </tr>\n",
       "  </thead>\n",
       "  <tbody>\n",
       "    <tr>\n",
       "      <th>0</th>\n",
       "      <td>7018</td>\n",
       "      <td>118782558</td>\n",
       "      <td>27</td>\n",
       "      <td>0</td>\n",
       "      <td>0</td>\n",
       "      <td>0</td>\n",
       "      <td>28</td>\n",
       "      <td>0</td>\n",
       "      <td>0</td>\n",
       "      <td>0</td>\n",
       "      <td>...</td>\n",
       "      <td>0</td>\n",
       "      <td>0</td>\n",
       "      <td>0</td>\n",
       "      <td>0</td>\n",
       "      <td>0</td>\n",
       "      <td>0</td>\n",
       "      <td>0</td>\n",
       "      <td>0</td>\n",
       "      <td>0</td>\n",
       "      <td>0</td>\n",
       "    </tr>\n",
       "    <tr>\n",
       "      <th>1</th>\n",
       "      <td>7018</td>\n",
       "      <td>163281546</td>\n",
       "      <td>24</td>\n",
       "      <td>1</td>\n",
       "      <td>0</td>\n",
       "      <td>1</td>\n",
       "      <td>20</td>\n",
       "      <td>0</td>\n",
       "      <td>0</td>\n",
       "      <td>0</td>\n",
       "      <td>...</td>\n",
       "      <td>0</td>\n",
       "      <td>0</td>\n",
       "      <td>0</td>\n",
       "      <td>0</td>\n",
       "      <td>0</td>\n",
       "      <td>0</td>\n",
       "      <td>0</td>\n",
       "      <td>0</td>\n",
       "      <td>0</td>\n",
       "      <td>0</td>\n",
       "    </tr>\n",
       "    <tr>\n",
       "      <th>2</th>\n",
       "      <td>6945</td>\n",
       "      <td>81916344</td>\n",
       "      <td>23</td>\n",
       "      <td>0</td>\n",
       "      <td>0</td>\n",
       "      <td>0</td>\n",
       "      <td>44</td>\n",
       "      <td>0</td>\n",
       "      <td>0</td>\n",
       "      <td>0</td>\n",
       "      <td>...</td>\n",
       "      <td>0</td>\n",
       "      <td>0</td>\n",
       "      <td>0</td>\n",
       "      <td>0</td>\n",
       "      <td>0</td>\n",
       "      <td>0</td>\n",
       "      <td>0</td>\n",
       "      <td>0</td>\n",
       "      <td>0</td>\n",
       "      <td>0</td>\n",
       "    </tr>\n",
       "    <tr>\n",
       "      <th>3</th>\n",
       "      <td>6945</td>\n",
       "      <td>79547760</td>\n",
       "      <td>36</td>\n",
       "      <td>0</td>\n",
       "      <td>0</td>\n",
       "      <td>1</td>\n",
       "      <td>30</td>\n",
       "      <td>1</td>\n",
       "      <td>0</td>\n",
       "      <td>0</td>\n",
       "      <td>...</td>\n",
       "      <td>1</td>\n",
       "      <td>0</td>\n",
       "      <td>0</td>\n",
       "      <td>1</td>\n",
       "      <td>0</td>\n",
       "      <td>0</td>\n",
       "      <td>0</td>\n",
       "      <td>0</td>\n",
       "      <td>0</td>\n",
       "      <td>0</td>\n",
       "    </tr>\n",
       "    <tr>\n",
       "      <th>4</th>\n",
       "      <td>6945</td>\n",
       "      <td>81286812</td>\n",
       "      <td>40</td>\n",
       "      <td>0</td>\n",
       "      <td>0</td>\n",
       "      <td>1</td>\n",
       "      <td>27</td>\n",
       "      <td>0</td>\n",
       "      <td>0</td>\n",
       "      <td>0</td>\n",
       "      <td>...</td>\n",
       "      <td>0</td>\n",
       "      <td>0</td>\n",
       "      <td>0</td>\n",
       "      <td>0</td>\n",
       "      <td>0</td>\n",
       "      <td>0</td>\n",
       "      <td>0</td>\n",
       "      <td>0</td>\n",
       "      <td>0</td>\n",
       "      <td>0</td>\n",
       "    </tr>\n",
       "  </tbody>\n",
       "</table>\n",
       "<p>5 rows × 31 columns</p>\n",
       "</div>"
      ],
      "text/plain": [
       "   Unnamed: 0  Patient ID  service_time  Visit Type_n  Patient Type Gender  \\\n",
       "0        7018   118782558            27             0             0      0   \n",
       "1        7018   163281546            24             1             0      1   \n",
       "2        6945    81916344            23             0             0      0   \n",
       "3        6945    79547760            36             0             0      1   \n",
       "4        6945    81286812            40             0             0      1   \n",
       "\n",
       "   Age  Refill/Referral Vision  Annual Exam  ...  Chronic_Count  C_Asthma  \\\n",
       "0   28                0      0            0  ...              0         0   \n",
       "1   20                0      0            0  ...              0         0   \n",
       "2   44                0      0            0  ...              0         0   \n",
       "3   30                1      0            0  ...              1         0   \n",
       "4   27                0      0            0  ...              0         0   \n",
       "\n",
       "   C_Alcoholic  C_Anxiety  C_Blood Pressure  C_Heart Problem  C_Smoker  \\\n",
       "0            0          0                 0                0         0   \n",
       "1            0          0                 0                0         0   \n",
       "2            0          0                 0                0         0   \n",
       "3            0          1                 0                0         0   \n",
       "4            0          0                 0                0         0   \n",
       "\n",
       "   C_ Seizures  C_Learning Disability  F_anxiety  \n",
       "0            0                      0          0  \n",
       "1            0                      0          0  \n",
       "2            0                      0          0  \n",
       "3            0                      0          0  \n",
       "4            0                      0          0  \n",
       "\n",
       "[5 rows x 31 columns]"
      ]
     },
     "execution_count": 3,
     "metadata": {},
     "output_type": "execute_result"
    }
   ],
   "source": [
    "df = pd.read_excel(path, engine=\"openpyxl\")\n",
    "\n",
    "df.head()"
   ]
  },
  {
   "cell_type": "code",
   "execution_count": 4,
   "id": "d4dd50f2",
   "metadata": {
    "execution": {
     "iopub.execute_input": "2024-11-22T00:32:20.037001Z",
     "iopub.status.busy": "2024-11-22T00:32:20.036418Z",
     "iopub.status.idle": "2024-11-22T00:32:20.049572Z",
     "shell.execute_reply": "2024-11-22T00:32:20.048448Z"
    },
    "papermill": {
     "duration": 0.020775,
     "end_time": "2024-11-22T00:32:20.051938",
     "exception": false,
     "start_time": "2024-11-22T00:32:20.031163",
     "status": "completed"
    },
    "tags": []
   },
   "outputs": [
    {
     "name": "stdout",
     "output_type": "stream",
     "text": [
      "Unique values in Gender: [0 1 'n']\n",
      "Unique values in Vision: [0 1 'n']\n"
     ]
    }
   ],
   "source": [
    "print(\"Unique values in Gender:\", df['Gender'].unique())\n",
    "print(\"Unique values in Vision:\", df['Vision'].unique()) \n",
    "\n",
    "df['Gender'] = df['Gender'].map({'0': 0, '1': 1})\n",
    "df['Vision'] = df['Vision'].map({'1': 1, '0': 0}) \n"
   ]
  },
  {
   "cell_type": "code",
   "execution_count": 5,
   "id": "b3c2ed2f",
   "metadata": {
    "execution": {
     "iopub.execute_input": "2024-11-22T00:32:20.062193Z",
     "iopub.status.busy": "2024-11-22T00:32:20.061828Z",
     "iopub.status.idle": "2024-11-22T00:32:20.069769Z",
     "shell.execute_reply": "2024-11-22T00:32:20.068556Z"
    },
    "papermill": {
     "duration": 0.015688,
     "end_time": "2024-11-22T00:32:20.071925",
     "exception": false,
     "start_time": "2024-11-22T00:32:20.056237",
     "status": "completed"
    },
    "tags": []
   },
   "outputs": [
    {
     "name": "stdout",
     "output_type": "stream",
     "text": [
      "NaN values in each column: \n",
      "Unnamed: 0                  0\n",
      "Patient ID                  0\n",
      "service_time                0\n",
      "Visit Type_n                0\n",
      "Patient Type                0\n",
      "Gender                   6096\n",
      "Age                         0\n",
      "Refill/Referral             0\n",
      "Vision                   6096\n",
      "Annual Exam                 0\n",
      "Sexual Health               0\n",
      "Respiratory                 0\n",
      "PPD/14                      0\n",
      "Orthopidic                  0\n",
      "Mental Health               0\n",
      "Immunization                0\n",
      "Gastropathy                 0\n",
      "Emergency                   0\n",
      "Dermatology                 0\n",
      "#ofReasons                  0\n",
      "#ofvaccsin_n                0\n",
      "Chronic_Count               0\n",
      "C_Asthma                    0\n",
      "C_Alcoholic                 0\n",
      "C_Anxiety                   0\n",
      "C_Blood Pressure            0\n",
      "C_Heart Problem             0\n",
      "C_Smoker                    0\n",
      "C_ Seizures                 0\n",
      "C_Learning Disability       0\n",
      "F_anxiety                   0\n",
      "dtype: int64\n"
     ]
    }
   ],
   "source": [
    "print(\"NaN values in each column: \")\n",
    "print(df.isnull().sum()) "
   ]
  },
  {
   "cell_type": "code",
   "execution_count": 6,
   "id": "451cb036",
   "metadata": {
    "execution": {
     "iopub.execute_input": "2024-11-22T00:32:20.081796Z",
     "iopub.status.busy": "2024-11-22T00:32:20.081392Z",
     "iopub.status.idle": "2024-11-22T00:32:20.094795Z",
     "shell.execute_reply": "2024-11-22T00:32:20.093637Z"
    },
    "papermill": {
     "duration": 0.021091,
     "end_time": "2024-11-22T00:32:20.097224",
     "exception": false,
     "start_time": "2024-11-22T00:32:20.076133",
     "status": "completed"
    },
    "tags": []
   },
   "outputs": [],
   "source": [
    "#df.dropna(inplace=True) \n",
    "#df = df.replace([np.inf, -np.inf], np.nan).dropna()\n",
    "\n",
    "df['Gender'] = pd.to_numeric(df['Gender'], errors='coerce').fillna(0).astype(int)\n",
    "df['Vision'] = pd.to_numeric(df['Vision'], errors='coerce').fillna(0).astype(int)\n",
    "df = df.replace([np.inf, -np.inf], np.nan).dropna()"
   ]
  },
  {
   "cell_type": "code",
   "execution_count": 7,
   "id": "6cbfebad",
   "metadata": {
    "execution": {
     "iopub.execute_input": "2024-11-22T00:32:20.107216Z",
     "iopub.status.busy": "2024-11-22T00:32:20.106813Z",
     "iopub.status.idle": "2024-11-22T00:32:20.121161Z",
     "shell.execute_reply": "2024-11-22T00:32:20.119687Z"
    },
    "papermill": {
     "duration": 0.02224,
     "end_time": "2024-11-22T00:32:20.123618",
     "exception": false,
     "start_time": "2024-11-22T00:32:20.101378",
     "status": "completed"
    },
    "tags": []
   },
   "outputs": [
    {
     "name": "stdout",
     "output_type": "stream",
     "text": [
      "   Unnamed: 0  Patient ID  service_time  Visit Type_n  Patient Type  Gender  \\\n",
      "0        7018   118782558            27             0             0       0   \n",
      "1        7018   163281546            24             1             0       0   \n",
      "2        6945    81916344            23             0             0       0   \n",
      "3        6945    79547760            36             0             0       0   \n",
      "4        6945    81286812            40             0             0       0   \n",
      "\n",
      "   Age  Refill/Referral  Vision  Annual Exam  ...  Chronic_Count  C_Asthma  \\\n",
      "0   28                0       0            0  ...              0         0   \n",
      "1   20                0       0            0  ...              0         0   \n",
      "2   44                0       0            0  ...              0         0   \n",
      "3   30                1       0            0  ...              1         0   \n",
      "4   27                0       0            0  ...              0         0   \n",
      "\n",
      "   C_Alcoholic  C_Anxiety  C_Blood Pressure  C_Heart Problem  C_Smoker  \\\n",
      "0            0          0                 0                0         0   \n",
      "1            0          0                 0                0         0   \n",
      "2            0          0                 0                0         0   \n",
      "3            0          1                 0                0         0   \n",
      "4            0          0                 0                0         0   \n",
      "\n",
      "   C_ Seizures  C_Learning Disability  F_anxiety  \n",
      "0            0                      0          0  \n",
      "1            0                      0          0  \n",
      "2            0                      0          0  \n",
      "3            0                      0          0  \n",
      "4            0                      0          0  \n",
      "\n",
      "[5 rows x 31 columns]\n",
      "Unnamed: 0               int64\n",
      "Patient ID               int64\n",
      "service_time             int64\n",
      "Visit Type_n             int64\n",
      "Patient Type             int64\n",
      "Gender                   int64\n",
      "Age                      int64\n",
      "Refill/Referral          int64\n",
      "Vision                   int64\n",
      "Annual Exam              int64\n",
      "Sexual Health            int64\n",
      "Respiratory              int64\n",
      "PPD/14                   int64\n",
      "Orthopidic               int64\n",
      "Mental Health            int64\n",
      "Immunization             int64\n",
      "Gastropathy              int64\n",
      "Emergency                int64\n",
      "Dermatology              int64\n",
      "#ofReasons               int64\n",
      "#ofvaccsin_n             int64\n",
      "Chronic_Count            int64\n",
      "C_Asthma                 int64\n",
      "C_Alcoholic              int64\n",
      "C_Anxiety                int64\n",
      "C_Blood Pressure         int64\n",
      "C_Heart Problem          int64\n",
      "C_Smoker                 int64\n",
      "C_ Seizures              int64\n",
      "C_Learning Disability    int64\n",
      "F_anxiety                int64\n",
      "dtype: object\n"
     ]
    }
   ],
   "source": [
    "y = df[\"service_time\"]\n",
    "x = df.drop(\"service_time\", axis = \"columns\")\n",
    "#x = x.drop(\"Visit Type_n\", axis = \"columns\")\n",
    "\n",
    "#attempt at one hot encode\n",
    "#df = pd.get_dummies(df,['Gender','Vision'])\n",
    "print(df.head())\n",
    "print(df.dtypes)"
   ]
  },
  {
   "cell_type": "code",
   "execution_count": 8,
   "id": "5237624d",
   "metadata": {
    "execution": {
     "iopub.execute_input": "2024-11-22T00:32:20.134615Z",
     "iopub.status.busy": "2024-11-22T00:32:20.134184Z",
     "iopub.status.idle": "2024-11-22T00:32:21.488953Z",
     "shell.execute_reply": "2024-11-22T00:32:21.487847Z"
    },
    "papermill": {
     "duration": 1.362792,
     "end_time": "2024-11-22T00:32:21.491480",
     "exception": false,
     "start_time": "2024-11-22T00:32:20.128688",
     "status": "completed"
    },
    "tags": []
   },
   "outputs": [],
   "source": [
    "from sklearn.model_selection import train_test_split\n",
    "\n",
    "x_train, x_test, y_train, y_test = train_test_split(x, y, shuffle = True,test_size=.1,random_state = 20)"
   ]
  },
  {
   "cell_type": "code",
   "execution_count": 9,
   "id": "2c8aa8f0",
   "metadata": {
    "execution": {
     "iopub.execute_input": "2024-11-22T00:32:21.503759Z",
     "iopub.status.busy": "2024-11-22T00:32:21.503184Z",
     "iopub.status.idle": "2024-11-22T00:32:21.508580Z",
     "shell.execute_reply": "2024-11-22T00:32:21.507634Z"
    },
    "papermill": {
     "duration": 0.014189,
     "end_time": "2024-11-22T00:32:21.510689",
     "exception": false,
     "start_time": "2024-11-22T00:32:21.496500",
     "status": "completed"
    },
    "tags": []
   },
   "outputs": [
    {
     "name": "stdout",
     "output_type": "stream",
     "text": [
      "5486\n",
      "610\n"
     ]
    }
   ],
   "source": [
    "print(len(x_train))\n",
    "print(len(x_test))"
   ]
  },
  {
   "cell_type": "code",
   "execution_count": 10,
   "id": "9bce52ea",
   "metadata": {
    "execution": {
     "iopub.execute_input": "2024-11-22T00:32:21.520842Z",
     "iopub.status.busy": "2024-11-22T00:32:21.520100Z",
     "iopub.status.idle": "2024-11-22T00:32:21.525684Z",
     "shell.execute_reply": "2024-11-22T00:32:21.524702Z"
    },
    "papermill": {
     "duration": 0.01281,
     "end_time": "2024-11-22T00:32:21.527587",
     "exception": false,
     "start_time": "2024-11-22T00:32:21.514777",
     "status": "completed"
    },
    "tags": []
   },
   "outputs": [
    {
     "name": "stdout",
     "output_type": "stream",
     "text": [
      "[ 1  2  3  4  5  6  7  8  9 10 11 12 13 14 15 16 17 18 19 20 21 22 23 24\n",
      " 25 26 27 28 29 30 31 32 33 34 35 36 37 38 39 40 41 42 43 44 45 46 47 48\n",
      " 49 50]\n"
     ]
    }
   ],
   "source": [
    "neighbors = np.arange(1,51)\n",
    "print(neighbors)"
   ]
  },
  {
   "cell_type": "code",
   "execution_count": 11,
   "id": "3040a3ed",
   "metadata": {
    "execution": {
     "iopub.execute_input": "2024-11-22T00:32:21.537864Z",
     "iopub.status.busy": "2024-11-22T00:32:21.537328Z",
     "iopub.status.idle": "2024-11-22T00:32:21.542492Z",
     "shell.execute_reply": "2024-11-22T00:32:21.541473Z"
    },
    "papermill": {
     "duration": 0.013788,
     "end_time": "2024-11-22T00:32:21.545537",
     "exception": false,
     "start_time": "2024-11-22T00:32:21.531749",
     "status": "completed"
    },
    "tags": []
   },
   "outputs": [],
   "source": [
    "testing_accuracies = np.empty(len(neighbors))"
   ]
  },
  {
   "cell_type": "code",
   "execution_count": 12,
   "id": "600287b9",
   "metadata": {
    "execution": {
     "iopub.execute_input": "2024-11-22T00:32:21.560654Z",
     "iopub.status.busy": "2024-11-22T00:32:21.560076Z",
     "iopub.status.idle": "2024-11-22T00:32:29.862404Z",
     "shell.execute_reply": "2024-11-22T00:32:29.861298Z"
    },
    "papermill": {
     "duration": 8.312496,
     "end_time": "2024-11-22T00:32:29.865063",
     "exception": false,
     "start_time": "2024-11-22T00:32:21.552567",
     "status": "completed"
    },
    "tags": []
   },
   "outputs": [],
   "source": [
    "from sklearn.neighbors import KNeighborsClassifier\n",
    "\n",
    "for index, neighbor_count in enumerate(neighbors):\n",
    "    model = KNeighborsClassifier(n_neighbors = neighbor_count)\n",
    "    model.fit(x_train, y_train)\n",
    "    testing_accuracies[index] = model.score(x_test, y_test)\n",
    " \n"
   ]
  },
  {
   "cell_type": "code",
   "execution_count": 13,
   "id": "2f6a4c6b",
   "metadata": {
    "execution": {
     "iopub.execute_input": "2024-11-22T00:32:29.876036Z",
     "iopub.status.busy": "2024-11-22T00:32:29.875621Z",
     "iopub.status.idle": "2024-11-22T00:32:30.153597Z",
     "shell.execute_reply": "2024-11-22T00:32:30.152577Z"
    },
    "papermill": {
     "duration": 0.286475,
     "end_time": "2024-11-22T00:32:30.156197",
     "exception": false,
     "start_time": "2024-11-22T00:32:29.869722",
     "status": "completed"
    },
    "tags": []
   },
   "outputs": [
    {
     "data": {
      "text/plain": [
       "Text(0, 0.5, 'Testing Accuracy')"
      ]
     },
     "execution_count": 13,
     "metadata": {},
     "output_type": "execute_result"
    },
    {
     "data": {
      "image/png": "[encoded data removed]",
      "text/plain": [
       "<Figure size 640x480 with 1 Axes>"
      ]
     },
     "metadata": {},
     "output_type": "display_data"
    }
   ],
   "source": [
    "import matplotlib.pyplot as plt\n",
    "\n",
    "plt.plot(testing_accuracies)\n",
    "plt.ylabel(\"Number of Neighbors\")\n",
    "plt.ylabel(\"Testing Accuracy\")"
   ]
  },
  {
   "cell_type": "code",
   "execution_count": 14,
   "id": "83565c9e",
   "metadata": {
    "execution": {
     "iopub.execute_input": "2024-11-22T00:32:30.168347Z",
     "iopub.status.busy": "2024-11-22T00:32:30.167468Z",
     "iopub.status.idle": "2024-11-22T00:32:30.180803Z",
     "shell.execute_reply": "2024-11-22T00:32:30.179708Z"
    },
    "papermill": {
     "duration": 0.021896,
     "end_time": "2024-11-22T00:32:30.183163",
     "exception": false,
     "start_time": "2024-11-22T00:32:30.161267",
     "status": "completed"
    },
    "tags": []
   },
   "outputs": [
    {
     "data": {
      "text/html": [
       "<style>#sk-container-id-1 {color: black;background-color: white;}#sk-container-id-1 pre{padding: 0;}#sk-container-id-1 div.sk-toggleable {background-color: white;}#sk-container-id-1 label.sk-toggleable__label {cursor: pointer;display: block;width: 100%;margin-bottom: 0;padding: 0.3em;box-sizing: border-box;text-align: center;}#sk-container-id-1 label.sk-toggleable__label-arrow:before {content: \"▸\";float: left;margin-right: 0.25em;color: #696969;}#sk-container-id-1 label.sk-toggleable__label-arrow:hover:before {color: black;}#sk-container-id-1 div.sk-estimator:hover label.sk-toggleable__label-arrow:before {color: black;}#sk-container-id-1 div.sk-toggleable__content {max-height: 0;max-width: 0;overflow: hidden;text-align: left;background-color: #f0f8ff;}#sk-container-id-1 div.sk-toggleable__content pre {margin: 0.2em;color: black;border-radius: 0.25em;background-color: #f0f8ff;}#sk-container-id-1 input.sk-toggleable__control:checked~div.sk-toggleable__content {max-height: 200px;max-width: 100%;overflow: auto;}#sk-container-id-1 input.sk-toggleable__control:checked~label.sk-toggleable__label-arrow:before {content: \"▾\";}#sk-container-id-1 div.sk-estimator input.sk-toggleable__control:checked~label.sk-toggleable__label {background-color: #d4ebff;}#sk-container-id-1 div.sk-label input.sk-toggleable__control:checked~label.sk-toggleable__label {background-color: #d4ebff;}#sk-container-id-1 input.sk-hidden--visually {border: 0;clip: rect(1px 1px 1px 1px);clip: rect(1px, 1px, 1px, 1px);height: 1px;margin: -1px;overflow: hidden;padding: 0;position: absolute;width: 1px;}#sk-container-id-1 div.sk-estimator {font-family: monospace;background-color: #f0f8ff;border: 1px dotted black;border-radius: 0.25em;box-sizing: border-box;margin-bottom: 0.5em;}#sk-container-id-1 div.sk-estimator:hover {background-color: #d4ebff;}#sk-container-id-1 div.sk-parallel-item::after {content: \"\";width: 100%;border-bottom: 1px solid gray;flex-grow: 1;}#sk-container-id-1 div.sk-label:hover label.sk-toggleable__label {background-color: #d4ebff;}#sk-container-id-1 div.sk-serial::before {content: \"\";position: absolute;border-left: 1px solid gray;box-sizing: border-box;top: 0;bottom: 0;left: 50%;z-index: 0;}#sk-container-id-1 div.sk-serial {display: flex;flex-direction: column;align-items: center;background-color: white;padding-right: 0.2em;padding-left: 0.2em;position: relative;}#sk-container-id-1 div.sk-item {position: relative;z-index: 1;}#sk-container-id-1 div.sk-parallel {display: flex;align-items: stretch;justify-content: center;background-color: white;position: relative;}#sk-container-id-1 div.sk-item::before, #sk-container-id-1 div.sk-parallel-item::before {content: \"\";position: absolute;border-left: 1px solid gray;box-sizing: border-box;top: 0;bottom: 0;left: 50%;z-index: -1;}#sk-container-id-1 div.sk-parallel-item {display: flex;flex-direction: column;z-index: 1;position: relative;background-color: white;}#sk-container-id-1 div.sk-parallel-item:first-child::after {align-self: flex-end;width: 50%;}#sk-container-id-1 div.sk-parallel-item:last-child::after {align-self: flex-start;width: 50%;}#sk-container-id-1 div.sk-parallel-item:only-child::after {width: 0;}#sk-container-id-1 div.sk-dashed-wrapped {border: 1px dashed gray;margin: 0 0.4em 0.5em 0.4em;box-sizing: border-box;padding-bottom: 0.4em;background-color: white;}#sk-container-id-1 div.sk-label label {font-family: monospace;font-weight: bold;display: inline-block;line-height: 1.2em;}#sk-container-id-1 div.sk-label-container {text-align: center;}#sk-container-id-1 div.sk-container {/* jupyter's `normalize.less` sets `[hidden] { display: none; }` but bootstrap.min.css set `[hidden] { display: none !important; }` so we also need the `!important` here to be able to override the default hidden behavior on the sphinx rendered scikit-learn.org. See: https://github.com/scikit-learn/scikit-learn/issues/21755 */display: inline-block !important;position: relative;}#sk-container-id-1 div.sk-text-repr-fallback {display: none;}</style><div id=\"sk-container-id-1\" class=\"sk-top-container\"><div class=\"sk-text-repr-fallback\"><pre>KNeighborsClassifier(n_neighbors=28)</pre><b>In a Jupyter environment, please rerun this cell to show the HTML representation or trust the notebook. <br />On GitHub, the HTML representation is unable to render, please try loading this page with nbviewer.org.</b></div><div class=\"sk-container\" hidden><div class=\"sk-item\"><div class=\"sk-estimator sk-toggleable\"><input class=\"sk-toggleable__control sk-hidden--visually\" id=\"sk-estimator-id-1\" type=\"checkbox\" checked><label for=\"sk-estimator-id-1\" class=\"sk-toggleable__label sk-toggleable__label-arrow\">KNeighborsClassifier</label><div class=\"sk-toggleable__content\"><pre>KNeighborsClassifier(n_neighbors=28)</pre></div></div></div></div></div>"
      ],
      "text/plain": [
       "KNeighborsClassifier(n_neighbors=28)"
      ]
     },
     "execution_count": 14,
     "metadata": {},
     "output_type": "execute_result"
    }
   ],
   "source": [
    "final_model = KNeighborsClassifier(n_neighbors = 28)\n",
    "final_model.fit(x_train, y_train)\n"
   ]
  }
 ],
 "metadata": {
  "kaggle": {
   "accelerator": "none",
   "dataSources": [
    {
     "datasetId": 5915260,
     "sourceId": 9678111,
     "sourceType": "datasetVersion"
    },
    {
     "datasetId": 6018920,
     "sourceId": 9816963,
     "sourceType": "datasetVersion"
    }
   ],
   "dockerImageVersionId": 30786,
   "isGpuEnabled": false,
   "isInternetEnabled": false,
   "language": "python",
   "sourceType": "notebook"
  },
  "kernelspec": {
   "display_name": "Python 3",
   "language": "python",
   "name": "python3"
  },
  "language_info": {
   "codemirror_mode": {
    "name": "ipython",
    "version": 3
   },
   "file_extension": ".py",
   "mimetype": "text/x-python",
   "name": "python",
   "nbconvert_exporter": "python",
   "pygments_lexer": "ipython3",
   "version": "3.10.14"
  },
  "papermill": {
   "default_parameters": {},
   "duration": 17.862545,
   "end_time": "2024-11-22T00:32:30.809415",
   "environment_variables": {},
   "exception": null,
   "input_path": "__notebook__.ipynb",
   "output_path": "__notebook__.ipynb",
   "parameters": {},
   "start_time": "2024-11-22T00:32:12.946870",
   "version": "2.6.0"
  }
 },
 "nbformat": 4,
 "nbformat_minor": 5
}
